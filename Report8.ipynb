{
 "cells": [
  {
   "cell_type": "markdown",
   "metadata": {},
   "source": [
    "## 3-Way ANOVA\n",
    "\n",
    "The three-way ANOVA is an extension of the two-way ANOVA for assessing whether there is an interaction effect between three independent categorical variables on a continuous outcome variable.\n",
    "\n",
    "We’ll use the **headache dataset**, which contains the measures of migraine headache episode pain score in 72 participants treated with three different treatments. The participants include 36 males and 36 females. Males and females were further subdivided into whether they were at low or high risk of migraine.\n",
    "\n",
    "We want to understand how each independent variable (type of treatments, risk of migraine and gender) interact to predict the pain score."
   ]
  },
  {
   "cell_type": "code",
   "execution_count": 3,
   "metadata": {},
   "outputs": [
    {
     "name": "stdout",
     "output_type": "stream",
     "text": [
      "   id gender risk treatment  pain_score\n",
      "0   1   male  low         X   79.311695\n",
      "1   2   male  low         X   76.843399\n",
      "2   3   male  low         X   70.832421\n",
      "3   4   male  low         X   81.163944\n",
      "4   5   male  low         X   75.052213\n"
     ]
    }
   ],
   "source": [
    "import pandas as pd\n",
    "\n",
    "# URL to the CSV file\n",
    "url = \"https://github.com/kflisikowski/ds/raw/master/headache.csv\"\n",
    "\n",
    "# Load the data into a DataFrame\n",
    "headache = pd.read_csv(url)\n",
    "\n",
    "# Display the first few rows of the data\n",
    "print(headache.head())"
   ]
  },
  {
   "cell_type": "markdown",
   "metadata": {},
   "source": [
    "# Libraries"
   ]
  },
  {
   "cell_type": "code",
   "execution_count": null,
   "metadata": {},
   "outputs": [],
   "source": [
    "#Import libraries\n",
    "import pandas as pd\n",
    "import numpy as np\n",
    "import pingouin as pg\n",
    "import scipy.stats as stats\n",
    "import matplotlib.pyplot as plt\n",
    "import seaborn as sns\n",
    "from statsmodels.stats.anova import AnovaRM\n",
    "from statsmodels.formula.api import ols\n",
    "from statsmodels.stats.multicomp import pairwise_tukeyhsd\n",
    "from statsmodels.stats.diagnostic import het_breuschpagan\n",
    "from statsmodels.stats.diagnostic import lilliefors"
   ]
  },
  {
   "cell_type": "markdown",
   "metadata": {},
   "source": [
    "# Descriptive statistics"
   ]
  },
  {
   "cell_type": "code",
   "execution_count": 5,
   "metadata": {},
   "outputs": [
    {
     "name": "stdout",
     "output_type": "stream",
     "text": [
      "                       count       mean       std        min        25%  \\\n",
      "treatment risk gender                                                     \n",
      "X         high female    6.0  78.865059  5.316489  68.360185  79.142521   \n",
      "               male      6.0  92.738847  5.116095  86.293706  88.907525   \n",
      "          low  female    6.0  74.156231  3.690272  68.613936  72.005373   \n",
      "               male      6.0  76.051783  3.854876  70.832421  73.593322   \n",
      "Y         high female    6.0  81.175304  4.619387  73.144392  80.011223   \n",
      "               male      6.0  82.341542  5.000898  77.524462  78.951861   \n",
      "          low  female    6.0  68.361925  4.081842  63.732617  65.236456   \n",
      "               male      6.0  73.138772  4.765061  67.923560  69.455207   \n",
      "Z         high female    6.0  81.035142  3.984886  74.988057  79.811669   \n",
      "               male      6.0  79.680736  4.045885  74.419865  76.602057   \n",
      "          low  female    6.0  69.779555  2.719645  65.449408  68.866039   \n",
      "               male      6.0  74.455863  4.888865  68.299416  70.706772   \n",
      "\n",
      "                             50%        75%         max  \n",
      "treatment risk gender                                    \n",
      "X         high female  81.055686  81.431621   82.657063  \n",
      "               male    93.392498  95.304508  100.000000  \n",
      "          low  female  74.624574  77.059079   78.071412  \n",
      "               male    75.947806  78.694621   81.163944  \n",
      "Y         high female  81.809575  83.666457   86.591089  \n",
      "               male    81.160483  83.897360   91.178517  \n",
      "          low  female  68.733945  69.799297   74.746005  \n",
      "               male    73.360982  74.857744   80.677163  \n",
      "Z         high female  80.842595  82.406134   87.142265  \n",
      "               male    80.370195  81.983814   85.056463  \n",
      "          low  female  69.587288  71.645371   73.096326  \n",
      "               male    74.850275  77.945192   80.432775  \n"
     ]
    }
   ],
   "source": [
    "descriptive_stats = headache.groupby(['treatment', 'risk', 'gender'])['pain_score'].describe()\n",
    "print(descriptive_stats)"
   ]
  },
  {
   "cell_type": "markdown",
   "metadata": {},
   "source": [
    "# Outliers"
   ]
  },
  {
   "cell_type": "code",
   "execution_count": 15,
   "metadata": {},
   "outputs": [
    {
     "name": "stdout",
     "output_type": "stream",
     "text": [
      "Outliers\n"
     ]
    },
    {
     "data": {
      "image/png": "[encoded data removed]",
      "text/plain": [
       "<Figure size 640x480 with 1 Axes>"
      ]
     },
     "metadata": {},
     "output_type": "display_data"
    }
   ],
   "source": [
    "print(\"Outliers\")\n",
    "sns.boxplot(x='treatment', y='pain_score', hue='gender', data=headache)\n",
    "plt.title('Boxplot of Pain Scores by Treatment and Gender')\n",
    "plt.show()\n"
   ]
  },
  {
   "cell_type": "markdown",
   "metadata": {},
   "source": [
    "# Normality"
   ]
  },
  {
   "cell_type": "code",
   "execution_count": 8,
   "metadata": {},
   "outputs": [
    {
     "name": "stdout",
     "output_type": "stream",
     "text": [
      "Normality\n",
      "Group ('X', 'high', 'female'): Lilliefors Test p-value = 0.0675\n",
      "Group ('X', 'high', 'male'): Lilliefors Test p-value = 0.8333\n",
      "Group ('X', 'low', 'female'): Lilliefors Test p-value = 0.8028\n",
      "Group ('X', 'low', 'male'): Lilliefors Test p-value = 0.9805\n",
      "Group ('Y', 'high', 'female'): Lilliefors Test p-value = 0.6589\n",
      "Group ('Y', 'high', 'male'): Lilliefors Test p-value = 0.8261\n",
      "Group ('Y', 'low', 'female'): Lilliefors Test p-value = 0.7728\n",
      "Group ('Y', 'low', 'male'): Lilliefors Test p-value = 0.7612\n",
      "Group ('Z', 'high', 'female'): Lilliefors Test p-value = 0.6921\n",
      "Group ('Z', 'high', 'male'): Lilliefors Test p-value = 0.8383\n",
      "Group ('Z', 'low', 'female'): Lilliefors Test p-value = 0.6823\n",
      "Group ('Z', 'low', 'male'): Lilliefors Test p-value = 0.7689\n"
     ]
    }
   ],
   "source": [
    "print(\"Normality\")\n",
    "groups = headache.groupby(['treatment', 'risk', 'gender'])\n",
    "for group_name, group_data in groups:\n",
    "    _, p_value = lilliefors(group_data['pain_score'], dist='norm')\n",
    "    print(f\"Group {group_name}: Lilliefors Test p-value = {p_value:.4f}\")"
   ]
  },
  {
   "cell_type": "markdown",
   "metadata": {},
   "source": [
    "All groups had p-values greater than 0.05, indicating no significant deviation from normality. Thus, the normality assumption is satisfied.\n"
   ]
  },
  {
   "cell_type": "markdown",
   "metadata": {},
   "source": [
    "# Homogeneity of variance"
   ]
  },
  {
   "cell_type": "code",
   "execution_count": 9,
   "metadata": {},
   "outputs": [
    {
     "name": "stdout",
     "output_type": "stream",
     "text": [
      "Homogeneity of Variance\n",
      "Breusch-Pagan Test p-value: 0.9644\n"
     ]
    }
   ],
   "source": [
    "print(\"Homogeneity of Variance\")\n",
    "anova_model = ols('pain_score ~ C(treatment) * C(risk) * C(gender)', data=headache).fit()\n",
    "_, p_bp, _, _ = het_breuschpagan(anova_model.resid, anova_model.model.exog)\n",
    "print(f\"Breusch-Pagan Test p-value: {p_bp:.4f}\")"
   ]
  },
  {
   "cell_type": "markdown",
   "metadata": {},
   "source": [
    "The Breusch-Pagan test yielded a p-value of 0.9644, which is much greater than 0.05. This suggests that the variances are homogeneous across the groups, satisfying this assumption."
   ]
  },
  {
   "cell_type": "markdown",
   "metadata": {},
   "source": [
    "# Anova"
   ]
  },
  {
   "cell_type": "code",
   "execution_count": 10,
   "metadata": {},
   "outputs": [
    {
     "name": "stdout",
     "output_type": "stream",
     "text": [
      "ANOVA\n",
      "                                     sum_sq    df          F        PR(>F)\n",
      "C(treatment)                     283.168031   2.0   7.317679  1.432844e-03\n",
      "C(risk)                         1793.555757   1.0  92.698774  8.799980e-14\n",
      "C(gender)                        313.358773   1.0  16.195746  1.625409e-04\n",
      "C(treatment):C(risk)              27.595016   2.0   0.713115  4.942214e-01\n",
      "C(treatment):C(gender)           129.182324   2.0   3.338353  4.220011e-02\n",
      "C(risk):C(gender)                  2.730584   1.0   0.141128  7.084867e-01\n",
      "C(treatment):C(risk):C(gender)   286.595625   2.0   7.406255  1.334476e-03\n",
      "Residual                        1160.892871  60.0        NaN           NaN\n"
     ]
    }
   ],
   "source": [
    "print(\"ANOVA\")\n",
    "from statsmodels.stats.anova import anova_lm\n",
    "anova_results = anova_lm(anova_model, typ=2)\n",
    "print(anova_results)\n"
   ]
  },
  {
   "cell_type": "markdown",
   "metadata": {},
   "source": [
    "# Main Effects:\n",
    "\n",
    "Treatment (p=0.0014): Significant. Different treatments result in varying pain scores.\n",
    "\n",
    "Risk (p<0.0001): Highly significant. Pain scores differ significantly between low and high migraine risk participants.\n",
    "\n",
    "Gender (p=0.00016): Significant. Males and females experience different levels of pain.\n",
    "\n",
    "\n",
    "# Two-Way Interactions:\n",
    "\n",
    "Treatment × Risk (p=0.4942): Not significant. No evidence of interaction between treatment type and migraine risk.\n",
    "\n",
    "Treatment × Gender (p=0.0422): Significant. The effect of treatment varies by gender.\n",
    "\n",
    "Risk × Gender (p=0.7085): Not significant. The effect of migraine risk does not differ by gender.\n",
    "\n",
    "\n",
    "\n",
    "# Three-Way Interaction:\n",
    "\n",
    "\n",
    "Treatment × Risk × Gender (p=0.0013): Significant. The combined effect of treatment, migraine risk, and gender significantly influences pain scores."
   ]
  },
  {
   "cell_type": "code",
   "execution_count": null,
   "metadata": {},
   "outputs": [
    {
     "name": "stdout",
     "output_type": "stream",
     "text": [
      "Two-way interaction for gender: male\n",
      "             Source          SS  DF          MS          F         p-unc  \\\n",
      "0         treatment  393.710706   2  196.855353   9.154682  7.876787e-04   \n",
      "1              risk  968.124984   1  968.124984  45.022276  1.954190e-07   \n",
      "2  treatment * risk  203.220142   2  101.610071   4.725337  1.644381e-02   \n",
      "3          Residual  645.097320  30   21.503244        NaN           NaN   \n",
      "\n",
      "        np2  \n",
      "0  0.379002  \n",
      "1  0.600119  \n",
      "2  0.239557  \n",
      "3       NaN  \n",
      "Two-way interaction for gender: female\n",
      "             Source          SS  DF          MS          F         p-unc  \\\n",
      "0         treatment   18.639649   2    9.319825   0.542065  5.871351e-01   \n",
      "1              risk  828.161356   1  828.161356  48.168001  1.042751e-07   \n",
      "2  treatment * risk  110.970499   2   55.485249   3.227165  5.377519e-02   \n",
      "3          Residual  515.795551  30   17.193185        NaN           NaN   \n",
      "\n",
      "        np2  \n",
      "0  0.034877  \n",
      "1  0.616211  \n",
      "2  0.177053  \n",
      "3       NaN  \n",
      "One-way ANOVA for risk: low\n",
      "      Source          SS  DF        MS         F     p-unc       np2\n",
      "0  treatment  118.967940   2  59.48397  3.064498  0.060152  0.156636\n",
      "1     Within  640.552121  33  19.41067       NaN       NaN       NaN\n",
      "One-way ANOVA for risk: high\n",
      "      Source           SS  DF         MS         F     p-unc       np2\n",
      "0  treatment   191.795107   2  95.897554  2.527231  0.095233  0.132822\n",
      "1     Within  1252.208055  33  37.945699       NaN       NaN       NaN\n",
      "Multiple Comparison of Means - Tukey HSD, FWER=0.05\n",
      "===================================================\n",
      "group1 group2 meandiff p-adj   lower  upper  reject\n",
      "---------------------------------------------------\n",
      "     X      Y  -4.1986 0.1242 -9.2716 0.8744  False\n",
      "     X      Z  -4.2152 0.1222 -9.2881 0.8578  False\n",
      "     Y      Z  -0.0166    1.0 -5.0895 5.0564  False\n",
      "---------------------------------------------------\n"
     ]
    }
   ],
   "source": [
    "# Decompose the significant three-way interaction\n",
    "# Run two-way interaction tests at each level of the third variable\n",
    "\n",
    "# Each gender\n",
    "for gender in headache['gender'].unique():\n",
    "    print(f\"Two-way interaction for gender: {gender}\")\n",
    "    subset = headache[headache['gender'] == gender]\n",
    "    interaction = pg.anova(dv='pain_score', between=['treatment', 'risk'], data=subset, detailed=True)\n",
    "    print(interaction)\n",
    "\n",
    "# Decompose significant two-way interactions into one-way tests\n",
    "# Each risk\n",
    "for risk in headache['risk'].unique():\n",
    "    print(f\"One-way ANOVA for risk: {risk}\")\n",
    "    subset = headache[headache['risk'] == risk]\n",
    "    one_way = pg.anova(dv='pain_score', between='treatment', data=subset, detailed=True)\n",
    "    print(one_way)\n",
    "\n",
    "# Pairwise comparisons for significant main effects or simple main effects\n",
    "pairwise_results = pairwise_tukeyhsd(\n",
    "    endog=headache['pain_score'],  # Dependent variable\n",
    "    groups=headache['treatment'],  # Independent variable\n",
    "    alpha=0.05\n",
    ")\n",
    "print(pairwise_results)\n"
   ]
  },
  {
   "cell_type": "markdown",
   "metadata": {},
   "source": [
    "# Post-Hoc Analysis Summary and Interpretation:\n",
    "\n",
    "## Two-Way Interaction by Gender\n",
    "\n",
    "### For Males:\n",
    "\n",
    "Treatment: Significant (p=0.0008), indicating the effect of treatment differs across levels.\n",
    "\n",
    "Risk: Highly significant (p=1.95×10^−7), indicating migraine risk influences pain scores.\n",
    "\n",
    "Treatment × Risk Interaction: Significant (p=0.0164), suggesting the effect of treatment depends on migraine risk level.\n",
    "\n",
    "### For Females:\n",
    "\n",
    "Treatment: Not significant (p=0.587).\n",
    "\n",
    "Risk: Highly significant (p=1.04×10^−7).\n",
    "\n",
    "Treatment × Risk Interaction: Marginally non-significant (p=0.0538), indicating weak evidence that treatment effects depend on migraine risk for females.\n",
    "\n",
    "## Simple Main Effects (Risk Levels)\n",
    "\n",
    "### Low Risk:\n",
    "\n",
    "Treatment effect is non-significant (p=0.060), indicating weak evidence for differences in treatments under low migraine risk.\n",
    "\n",
    "### High Risk:\n",
    "\n",
    "Treatment effect is also non-significant (p=0.095), suggesting no strong evidence of treatment differences under high migraine risk.\n",
    "\n",
    "## Pairwise Comparisons:\n",
    "\n",
    "No significant differences between any treatment pairs (all p>0.05) after adjusting for multiple comparisons using Tukey's HSD.\n"
   ]
  }
 ],
 "metadata": {
  "kernelspec": {
   "display_name": "Python 3",
   "language": "python",
   "name": "python3"
  },
  "language_info": {
   "codemirror_mode": {
    "name": "ipython",
    "version": 3
   },
   "file_extension": ".py",
   "mimetype": "text/x-python",
   "name": "python",
   "nbconvert_exporter": "python",
   "pygments_lexer": "ipython3",
   "version": "3.12.0"
  }
 },
 "nbformat": 4,
 "nbformat_minor": 2
}
